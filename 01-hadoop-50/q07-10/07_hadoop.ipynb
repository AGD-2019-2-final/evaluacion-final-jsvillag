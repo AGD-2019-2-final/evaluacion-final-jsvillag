{
 "cells": [
  {
   "cell_type": "code",
   "execution_count": 8,
   "metadata": {},
   "outputs": [
    {
     "name": "stdout",
     "output_type": "stream",
     "text": [
      "Overwriting mapper.py\n"
     ]
    }
   ],
   "source": [
    "%%writefile mapper.py\n",
    "#! /usr/bin/env python3\n",
    "import sys\n",
    "##\n",
    "## Esta es la funcion que mapea la entrada a parejas (clave, valor)\n",
    "if __name__ == \"__main__\":\n",
    "    for line in sys.stdin:\n",
    "        line_split = line.split(\"   \")\n",
    "        num = line_split[2].strip(); number_int = int(num)\n",
    "        num = (\"0\" + num) if number_int < 100 else num\n",
    "        num = (\"0\" + num) if number_int < 10 else num\n",
    "        print(\"{}{}\\t{}\\t{}\\t{}\".format(\n",
    "            line_split[0],num, line_split[0],line_split[1],str(number_int)))"
   ]
  },
  {
   "cell_type": "code",
   "execution_count": 9,
   "metadata": {},
   "outputs": [],
   "source": [
    "!chmod +x mapper.py"
   ]
  },
  {
   "cell_type": "code",
   "execution_count": 10,
   "metadata": {},
   "outputs": [
    {
     "name": "stdout",
     "output_type": "stream",
     "text": [
      "E016\tE\t1990-05-03\t16\n",
      "A009\tA\t1992-09-19\t9\n",
      "A010\tA\t1990-10-06\t10\n",
      "E010\tE\t1994-02-14\t10\n",
      "E011\tE\t1999-09-10\t11\n",
      "A016\tA\t1992-08-22\t16\n",
      "A017\tA\t1993-05-08\t17\n",
      "A121\tA\t1988-04-27\t121\n",
      "B001\tB\t1995-08-23\t1\n",
      "B009\tB\t1991-10-01\t9\n",
      "B013\tB\t1999-10-21\t13\n",
      "B014\tB\t1997-04-09\t14\n",
      "B015\tB\t1995-09-06\t15\n",
      "A012\tA\t1990-08-31\t12\n",
      "A013\tA\t1997-12-15\t13\n",
      "A014\tA\t1994-10-25\t14\n",
      "B016\tB\t1993-03-02\t16\n",
      "B017\tB\t1999-08-28\t17\n",
      "E002\tE\t1998-09-14\t2\n",
      "E003\tE\t1995-04-25\t3\n",
      "E004\tE\t1993-07-21\t4\n",
      "E017\tE\t1985-02-12\t17\n",
      "E018\tE\t1990-02-09\t18\n",
      "E019\tE\t1993-12-27\t19\n",
      "E141\tE\t1991-02-18\t141\n",
      "A000\tA\t1990-07-22\t0\n",
      "A008\tA\t1990-09-26\t8\n",
      "B121\tB\t1999-06-11\t121\n",
      "B131\tB\t1998-11-22\t131\n",
      "C010\tC\t1994-01-25\t10\n",
      "C013\tC\t1991-02-12\t13\n",
      "B018\tB\t1994-08-30\t18\n",
      "C015\tC\t1994-09-09\t15\n",
      "C104\tC\t1994-07-27\t104\n",
      "D015\tD\t1990-10-10\t15\n",
      "A011\tA\t1990-09-05\t11\n",
      "A015\tA\t1993-01-11\t15\n",
      "E009\tE\t1993-01-27\t9\n",
      "E012\tE\t1999-12-06\t12\n",
      "E015\tE\t1999-01-14\t15\n"
     ]
    }
   ],
   "source": [
    "!cat ./data.csv | ./mapper.py"
   ]
  },
  {
   "cell_type": "code",
   "execution_count": 11,
   "metadata": {},
   "outputs": [
    {
     "name": "stdout",
     "output_type": "stream",
     "text": [
      "Overwriting reducer.py\n"
     ]
    }
   ],
   "source": [
    "%%writefile reducer.py\n",
    "#!/usr/bin/env python3\n",
    "\n",
    "import sys\n",
    "\n",
    "##\n",
    "## Esta funcion reduce los elementos que\n",
    "## tienen la misma clave\n",
    "##\n",
    "\n",
    "if __name__ == \"__main__\":\n",
    "    for line in sys.stdin:\n",
    "        line_split = line.split(\"\\t\")\n",
    "        print(\"{}   {}   {}\".format(line_split[1],line_split[2],line_split[3].strip()))"
   ]
  },
  {
   "cell_type": "code",
   "execution_count": 12,
   "metadata": {},
   "outputs": [],
   "source": [
    "## El archivo se hace ejecutable\n",
    "!chmod +x reducer.py"
   ]
  },
  {
   "cell_type": "code",
   "execution_count": 14,
   "metadata": {},
   "outputs": [
    {
     "name": "stdout",
     "output_type": "stream",
     "text": [
      "A   1990-07-22   0\n",
      "A   1990-09-26   8\n",
      "A   1992-09-19   9\n",
      "A   1990-10-06   10\n",
      "A   1990-09-05   11\n",
      "A   1990-08-31   12\n",
      "A   1997-12-15   13\n",
      "A   1994-10-25   14\n",
      "A   1993-01-11   15\n",
      "A   1992-08-22   16\n",
      "A   1993-05-08   17\n",
      "A   1988-04-27   121\n",
      "B   1995-08-23   1\n",
      "B   1991-10-01   9\n",
      "B   1999-10-21   13\n",
      "B   1997-04-09   14\n",
      "B   1995-09-06   15\n",
      "B   1993-03-02   16\n",
      "B   1999-08-28   17\n",
      "B   1994-08-30   18\n",
      "B   1999-06-11   121\n",
      "B   1998-11-22   131\n",
      "C   1994-01-25   10\n",
      "C   1991-02-12   13\n",
      "C   1994-09-09   15\n",
      "C   1994-07-27   104\n",
      "D   1990-10-10   15\n",
      "E   1998-09-14   2\n",
      "E   1995-04-25   3\n",
      "E   1993-07-21   4\n",
      "E   1993-01-27   9\n",
      "E   1994-02-14   10\n",
      "E   1999-09-10   11\n",
      "E   1999-12-06   12\n",
      "E   1999-01-14   15\n",
      "E   1990-05-03   16\n",
      "E   1985-02-12   17\n",
      "E   1990-02-09   18\n",
      "E   1993-12-27   19\n",
      "E   1991-02-18   141\n"
     ]
    }
   ],
   "source": [
    "##\n",
    "## La función sort hace que todos los elementos con\n",
    "## la misma clave queden en lineas consecutivas.\n",
    "## Hace el papel del módulo Shuffle & Sort\n",
    "##\n",
    "!cat ./data.csv | ./mapper.py | sort | ./reducer.py "
   ]
  },
  {
   "cell_type": "code",
   "execution_count": null,
   "metadata": {},
   "outputs": [],
   "source": [
    "## limpieza\n",
    "#!rm reducer.py mapper.py"
   ]
  },
  {
   "cell_type": "code",
   "execution_count": null,
   "metadata": {},
   "outputs": [],
   "source": []
  }
 ],
 "metadata": {
  "kernelspec": {
   "display_name": "Python 3",
   "language": "python",
   "name": "python3"
  },
  "language_info": {
   "codemirror_mode": {
    "name": "ipython",
    "version": 3
   },
   "file_extension": ".py",
   "mimetype": "text/x-python",
   "name": "python",
   "nbconvert_exporter": "python",
   "pygments_lexer": "ipython3",
   "version": "3.6.9"
  }
 },
 "nbformat": 4,
 "nbformat_minor": 4
}
